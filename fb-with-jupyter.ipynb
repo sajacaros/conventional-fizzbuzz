{
 "cells": [
  {
   "cell_type": "code",
   "execution_count": 1,
   "metadata": {
    "collapsed": true
   },
   "outputs": [],
   "source": [
    "import requests"
   ]
  },
  {
   "cell_type": "code",
   "execution_count": 2,
   "outputs": [
    {
     "name": "stdout",
     "output_type": "stream",
     "text": [
      "200 <!doctype html><html itemscope=\"\" itemtype=\"http:/\n"
     ]
    }
   ],
   "source": [
    "response = requests.get('https://www.google.com')\n",
    "print(response.status_code, response.text[:50])"
   ],
   "metadata": {
    "collapsed": false,
    "pycharm": {
     "name": "#%%\n"
    }
   }
  },
  {
   "cell_type": "code",
   "execution_count": 6,
   "outputs": [
    {
     "data": {
      "text/plain": "[1,\n 2,\n 'fizz',\n 4,\n 'buzz',\n 'fizz',\n 7,\n 8,\n 'fizz',\n 'buzz',\n 11,\n 'fizz',\n 13,\n 14,\n 'fizzbuzz',\n 16,\n 17]"
     },
     "execution_count": 6,
     "metadata": {},
     "output_type": "execute_result"
    }
   ],
   "source": [
    "[\n",
    "    'fizz'*(i%3==0)+'buzz'*(i%5==0) if i%3 == 0 or i%5 == 0 else i\n",
    "    for i in range(1, 17+1)\n",
    "]"
   ],
   "metadata": {
    "collapsed": false,
    "pycharm": {
     "name": "#%%\n"
    }
   }
  },
  {
   "cell_type": "code",
   "execution_count": null,
   "outputs": [],
   "source": [],
   "metadata": {
    "collapsed": false,
    "pycharm": {
     "name": "#%%\n"
    }
   }
  }
 ],
 "metadata": {
  "kernelspec": {
   "display_name": "Python 3",
   "language": "python",
   "name": "python3"
  },
  "language_info": {
   "codemirror_mode": {
    "name": "ipython",
    "version": 2
   },
   "file_extension": ".py",
   "mimetype": "text/x-python",
   "name": "python",
   "nbconvert_exporter": "python",
   "pygments_lexer": "ipython2",
   "version": "2.7.6"
  }
 },
 "nbformat": 4,
 "nbformat_minor": 0
}